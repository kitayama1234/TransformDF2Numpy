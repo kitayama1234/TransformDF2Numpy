{
 "cells": [
  {
   "cell_type": "code",
   "execution_count": 7,
   "metadata": {},
   "outputs": [],
   "source": [
    "import numpy as np\n",
    "import pandas as pd\n",
    "from df2numpy import TransformDF2Numpy, one_hot_encode\n",
    "from sklearn.model_selection import GridSearchCV\n",
    "from sklearn.ensemble import RandomForestClassifier"
   ]
  },
  {
   "cell_type": "code",
   "execution_count": 8,
   "metadata": {},
   "outputs": [
    {
     "data": {
      "text/html": [
       "<div>\n",
       "<style scoped>\n",
       "    .dataframe tbody tr th:only-of-type {\n",
       "        vertical-align: middle;\n",
       "    }\n",
       "\n",
       "    .dataframe tbody tr th {\n",
       "        vertical-align: top;\n",
       "    }\n",
       "\n",
       "    .dataframe thead th {\n",
       "        text-align: right;\n",
       "    }\n",
       "</style>\n",
       "<table border=\"1\" class=\"dataframe\">\n",
       "  <thead>\n",
       "    <tr style=\"text-align: right;\">\n",
       "      <th></th>\n",
       "      <th>PassengerId</th>\n",
       "      <th>Survived</th>\n",
       "      <th>Pclass</th>\n",
       "      <th>Name</th>\n",
       "      <th>Sex</th>\n",
       "      <th>Age</th>\n",
       "      <th>SibSp</th>\n",
       "      <th>Parch</th>\n",
       "      <th>Ticket</th>\n",
       "      <th>Fare</th>\n",
       "      <th>Cabin</th>\n",
       "      <th>Embarked</th>\n",
       "    </tr>\n",
       "  </thead>\n",
       "  <tbody>\n",
       "    <tr>\n",
       "      <th>0</th>\n",
       "      <td>1</td>\n",
       "      <td>0</td>\n",
       "      <td>3</td>\n",
       "      <td>Braund, Mr. Owen Harris</td>\n",
       "      <td>male</td>\n",
       "      <td>22.0</td>\n",
       "      <td>1</td>\n",
       "      <td>0</td>\n",
       "      <td>A/5 21171</td>\n",
       "      <td>7.2500</td>\n",
       "      <td>NaN</td>\n",
       "      <td>S</td>\n",
       "    </tr>\n",
       "    <tr>\n",
       "      <th>1</th>\n",
       "      <td>2</td>\n",
       "      <td>1</td>\n",
       "      <td>1</td>\n",
       "      <td>Cumings, Mrs. John Bradley (Florence Briggs Th...</td>\n",
       "      <td>female</td>\n",
       "      <td>38.0</td>\n",
       "      <td>1</td>\n",
       "      <td>0</td>\n",
       "      <td>PC 17599</td>\n",
       "      <td>71.2833</td>\n",
       "      <td>C85</td>\n",
       "      <td>C</td>\n",
       "    </tr>\n",
       "    <tr>\n",
       "      <th>2</th>\n",
       "      <td>3</td>\n",
       "      <td>1</td>\n",
       "      <td>3</td>\n",
       "      <td>Heikkinen, Miss. Laina</td>\n",
       "      <td>female</td>\n",
       "      <td>26.0</td>\n",
       "      <td>0</td>\n",
       "      <td>0</td>\n",
       "      <td>STON/O2. 3101282</td>\n",
       "      <td>7.9250</td>\n",
       "      <td>NaN</td>\n",
       "      <td>S</td>\n",
       "    </tr>\n",
       "    <tr>\n",
       "      <th>3</th>\n",
       "      <td>4</td>\n",
       "      <td>1</td>\n",
       "      <td>1</td>\n",
       "      <td>Futrelle, Mrs. Jacques Heath (Lily May Peel)</td>\n",
       "      <td>female</td>\n",
       "      <td>35.0</td>\n",
       "      <td>1</td>\n",
       "      <td>0</td>\n",
       "      <td>113803</td>\n",
       "      <td>53.1000</td>\n",
       "      <td>C123</td>\n",
       "      <td>S</td>\n",
       "    </tr>\n",
       "    <tr>\n",
       "      <th>4</th>\n",
       "      <td>5</td>\n",
       "      <td>0</td>\n",
       "      <td>3</td>\n",
       "      <td>Allen, Mr. William Henry</td>\n",
       "      <td>male</td>\n",
       "      <td>35.0</td>\n",
       "      <td>0</td>\n",
       "      <td>0</td>\n",
       "      <td>373450</td>\n",
       "      <td>8.0500</td>\n",
       "      <td>NaN</td>\n",
       "      <td>S</td>\n",
       "    </tr>\n",
       "  </tbody>\n",
       "</table>\n",
       "</div>"
      ],
      "text/plain": [
       "   PassengerId  Survived  Pclass  \\\n",
       "0            1         0       3   \n",
       "1            2         1       1   \n",
       "2            3         1       3   \n",
       "3            4         1       1   \n",
       "4            5         0       3   \n",
       "\n",
       "                                                Name     Sex   Age  SibSp  \\\n",
       "0                            Braund, Mr. Owen Harris    male  22.0      1   \n",
       "1  Cumings, Mrs. John Bradley (Florence Briggs Th...  female  38.0      1   \n",
       "2                             Heikkinen, Miss. Laina  female  26.0      0   \n",
       "3       Futrelle, Mrs. Jacques Heath (Lily May Peel)  female  35.0      1   \n",
       "4                           Allen, Mr. William Henry    male  35.0      0   \n",
       "\n",
       "   Parch            Ticket     Fare Cabin Embarked  \n",
       "0      0         A/5 21171   7.2500   NaN        S  \n",
       "1      0          PC 17599  71.2833   C85        C  \n",
       "2      0  STON/O2. 3101282   7.9250   NaN        S  \n",
       "3      0            113803  53.1000  C123        S  \n",
       "4      0            373450   8.0500   NaN        S  "
      ]
     },
     "execution_count": 8,
     "metadata": {},
     "output_type": "execute_result"
    }
   ],
   "source": [
    "# load the Titanic dataset (https://www.kaggle.com/c/titanic/data)\n",
    "df_train = pd.read_csv('./train.csv')\n",
    "df_test = pd.read_csv('./test.csv')\n",
    "\n",
    "df_train.head()"
   ]
  },
  {
   "cell_type": "code",
   "execution_count": 9,
   "metadata": {},
   "outputs": [
    {
     "name": "stdout",
     "output_type": "stream",
     "text": [
      "Starting to fit a transformer of TransformDF2Numpy.\n",
      "Garbage variable Dropped: (column: 'Name')\n",
      "Numerical NaNs filled with alternative value: (column: 'Age'), (filled rows: 177, value: 29.699118)\n",
      "Categories thresholded: (column: 'Ticket'), (valid categories: 19, dropped categories: 662)\n",
      "Categories thresholded: (column: 'Cabin'), (valid categories: 3, dropped categories: 144)\n",
      "Categorical NaNs filled with alternative value: (column: 'Cabin'), (filled rows: 687, factorized value: 0.000000, category: 'TransformDF2Numpy_NaN_category')\n",
      "Categorical NaNs filled with alternative value: (column: 'Embarked'), (filled rows: 2, factorized value: 3.000000, category: 'TransformDF2Numpy_NaN_category')\n",
      "\n",
      "Transformer fitted.\n",
      "Number of the categorical variables: 3\n",
      "Number of the numerical variables: 7\n",
      "---------------------------------------------------\n",
      "x_train[0, :]: [ 0.          0.          0.         -1.73010795  0.82737625 -0.73769359\n",
      " -0.59248055  0.43279297 -0.47367302 -0.50244516]\n",
      "y_train[0]: 0\n"
     ]
    }
   ],
   "source": [
    "# initializing a transformer instance\n",
    "trans = TransformDF2Numpy(objective_col='Survived',\n",
    "                          fillnan=True,\n",
    "                          numerical_scaling=True,\n",
    "                          min_category_count=4,\n",
    "                          copy=True)\n",
    "\n",
    "# fit the transformer, and get the numpy.arrays\n",
    "# x_train contains the factorized categorical variables (first half) and the numerical variables (second half).\n",
    "x_train, y_train = trans.fit_transform(df_train)\n",
    "\n",
    "# apply the fitted tranformer to the test data\n",
    "x_test = trans.transform(df_test)\n",
    "\n",
    "print(\"x_train[0, :]:\", x_train[0, :])\n",
    "print(\"y_train[0]:\", y_train[0])"
   ]
  },
  {
   "cell_type": "code",
   "execution_count": 10,
   "metadata": {},
   "outputs": [
    {
     "name": "stdout",
     "output_type": "stream",
     "text": [
      "x_train_one_hot[0, :]: [ 0.34138154 -0.06715343 -0.08898625 -0.07512217 -0.06715343 -0.06715343\n",
      " -0.0823387  -0.0823387  -0.0823387  -0.07512217 -0.08898625 -0.06715343\n",
      " -0.08898625 -0.06715343 -0.06715343 -0.06715343 -0.06715343 -0.06715343\n",
      " -0.06715343  0.54492498 -0.52409743 -0.06715343 -0.06715343  0.61930636\n",
      " -0.48204268 -0.30756234 -1.73010795  0.82737625 -0.73769359 -0.59248055\n",
      "  0.43279297 -0.47367302 -0.50244516]\n",
      "variable names: ['Ticket_TransformDF2Numpy_dropped_category', 'Ticket_349909', 'Ticket_347082', 'Ticket_382652', 'Ticket_347077', 'Ticket_19950', 'Ticket_3101295', 'Ticket_CA 2144', 'Ticket_347088', 'Ticket_S.O.C. 14879', 'Ticket_1601', 'Ticket_W./C. 6608', 'Ticket_CA. 2343', 'Ticket_4133', 'Ticket_LINE', 'Ticket_113781', 'Ticket_17421', 'Ticket_PC 17757', 'Ticket_113760', 'Cabin_TransformDF2Numpy_NaN_category', 'Cabin_TransformDF2Numpy_dropped_category', 'Cabin_G6', 'Cabin_C23 C25 C27', 'Embarked_S', 'Embarked_C', 'Embarked_Q', 'PassengerId', 'Pclass', 'Sex', 'Age', 'SibSp', 'Parch', 'Fare']\n"
     ]
    }
   ],
   "source": [
    "# one hot encode\n",
    "x_train_one_hot, variable_names = one_hot_encode(trans, x_train, elim_verbose=True)\n",
    "x_test_one_hot = one_hot_encode(trans, x_test, elim_verbose=True)[0]\n",
    "\n",
    "print(\"x_train_one_hot[0, :]:\", x_train_one_hot[0, :])\n",
    "print(\"variable names:\", variable_names)"
   ]
  },
  {
   "cell_type": "code",
   "execution_count": 13,
   "metadata": {},
   "outputs": [
    {
     "name": "stdout",
     "output_type": "stream",
     "text": [
      "[0 0 0 0 0 0 0 0 1 0 0 0 1 0 1 1 0 0 0 0 0 1 1 0 1 0 1 0 0 0 0 0 0 0 1 0 0\n",
      " 0 0 0 0 0 0 1 1 0 1 0 1 0 0 0 1 1 0 0 0 0 0 1 0 0 0 0 1 1 0 0 1 1 0 0 0 1\n",
      " 1 1 0 1 0 0 1 0 0 0 0 0 1 0 1 1 0 0 1 0 0 0 1 0 0 0 1 0 0 0 1 0 0 0 0 0 0\n",
      " 1 1 0 1 0 0 1 1 1 1 0 1 0 0 1 0 1 0 0 0 1 0 0 0 0 0 0 0 0 0 1 0 0 0 0 0 0\n",
      " 0 0 1 0 0 0 0 0 1 0 0 1 1 1 1 0 0 0 1 0 1 0 0 0 0 0 0 1 1 1 1 1 0 1 1 0 1\n",
      " 0 1 0 0 0 0 0 1 0 1 0 1 0 0 0 1 1 1 1 0 0 0 0 1 0 0 0 0 0 0 0 1 0 1 0 1 0\n",
      " 1 0 1 1 0 1 0 0 0 1 0 0 1 0 1 0 1 1 1 1 1 0 0 1 1 0 1 0 1 0 1 0 0 0 0 0 1\n",
      " 0 0 0 1 1 1 0 0 0 0 0 0 0 1 1 0 1 0 0 0 0 0 1 1 0 1 0 0 0 0 0 0 0 0 0 0 0\n",
      " 1 0 0 0 0 0 0 0 1 1 0 1 0 0 0 0 0 0 1 0 0 0 0 0 0 0 0 0 1 0 1 0 0 0 1 1 0\n",
      " 0 0 0 0 0 0 0 0 0 0 1 0 1 0 1 0 1 1 0 0 0 1 1 1 0 0 0 0 1 1 0 1 0 0 0 1 1\n",
      " 0 1 0 0 1 1 0 0 0 0 0 0 0 0 0 1 0 0 0 0 0 1 0 0 0 1 0 1 0 0 1 0 1 0 1 0 0\n",
      " 0 1 1 1 1 0 0 1 0 0 1]\n"
     ]
    }
   ],
   "source": [
    "# Training Random Forest\n",
    "classifier = RandomForestClassifier(n_estimators=100)\n",
    "classifier.fit(x_train_one_hot, y_train)\n",
    "y_pred = classifier.predict(x_test_one_hot)\n",
    "\n",
    "print(y_pred)"
   ]
  },
  {
   "cell_type": "code",
   "execution_count": 14,
   "metadata": {},
   "outputs": [],
   "source": [
    "# Export the prediction to csv\n",
    "PassengerId = np.array(df_test[\"PassengerId\"]).astype(int)\n",
    "my_solution = pd.DataFrame(y_pred, PassengerId, columns = [\"Survived\"])\n",
    "my_solution.to_csv(\"prediction.csv\", index_label = [\"PassengerId\"])  # kaggle score: 0.78708"
   ]
  },
  {
   "cell_type": "code",
   "execution_count": null,
   "metadata": {},
   "outputs": [],
   "source": []
  }
 ],
 "metadata": {
  "kernelspec": {
   "display_name": "venv",
   "language": "python",
   "name": "venv"
  },
  "language_info": {
   "codemirror_mode": {
    "name": "ipython",
    "version": 3
   },
   "file_extension": ".py",
   "mimetype": "text/x-python",
   "name": "python",
   "nbconvert_exporter": "python",
   "pygments_lexer": "ipython3",
   "version": "3.7.4"
  }
 },
 "nbformat": 4,
 "nbformat_minor": 2
}
